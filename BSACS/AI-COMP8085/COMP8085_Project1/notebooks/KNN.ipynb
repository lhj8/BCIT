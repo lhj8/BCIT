{
 "cells": [
  {
   "cell_type": "markdown",
   "source": [
    "# K-Nearest Neighbors"
   ],
   "metadata": {
    "collapsed": false,
    "pycharm": {
     "name": "#%% md\n"
    }
   }
  },
  {
   "cell_type": "code",
   "execution_count": 22,
   "outputs": [],
   "source": [
    "from sklearn.model_selection import train_test_split\n",
    "import numpy as np\n",
    "import pandas as pd\n",
    "from COMP8085_Project1.scripts import preprocess as ref\n",
    "\n",
    "original_csv = pd.read_csv(\"../data/UNSW-NB15-BALANCED-TRAIN.csv\",\n",
    "                               encoding='ISO-8859-1',\n",
    "                               low_memory=False)\n",
    "\n",
    "    # Process data - change values of ports and null + factorize\n",
    "df = ref.preprocess_data(original_csv)"
   ],
   "metadata": {
    "collapsed": false,
    "pycharm": {
     "name": "#%%\n"
    },
    "ExecuteTime": {
     "end_time": "2024-03-06T15:00:15.487005719Z",
     "start_time": "2024-03-06T15:00:11.714688326Z"
    }
   }
  },
  {
   "cell_type": "markdown",
   "source": [
    "## 'Label' Feature"
   ],
   "metadata": {
    "collapsed": false,
    "pycharm": {
     "name": "#%% md\n"
    }
   }
  },
  {
   "cell_type": "code",
   "execution_count": 21,
   "outputs": [],
   "source": [
    "# Split original csv into train and validate+test (0.7 : 0.3)\n",
    "train_df, validate_test_df = train_test_split(df,\n",
    "                                              train_size=0.7,\n",
    "                                              shuffle=True,\n",
    "                                              stratify=df['attack_cat'],\n",
    "                                              random_state=32)\n",
    "\n",
    "# Split validate+test into validate and test (0.5 : 0.5)\n",
    "validate_df, test_df = train_test_split(validate_test_df,\n",
    "                                        train_size=0.5,\n",
    "                                        shuffle=True,\n",
    "                                        stratify=validate_test_df[\n",
    "                                            'attack_cat'],\n",
    "                                        random_state=34)"
   ],
   "metadata": {
    "collapsed": false,
    "pycharm": {
     "name": "#%%\n"
    },
    "ExecuteTime": {
     "end_time": "2024-03-06T15:00:10.628370654Z",
     "start_time": "2024-03-06T15:00:10.086233632Z"
    }
   }
  },
  {
   "cell_type": "code",
   "outputs": [],
   "source": [
    "Y_label_train = train_df[\"Label\"]\n",
    "X_train = train_df.drop(['srcip', 'dstip','Label', 'attack_cat'], axis=1)\n",
    "\n",
    "Y_label_test = test_df[\"Label\"]\n",
    "X_test = test_df.drop(['srcip', 'dstip','Label', 'attack_cat'], axis=1)\n",
    "\n",
    "Y_label_validate = validate_df[\"Label\"]\n",
    "X_validate = validate_df.drop(['srcip', 'dstip','Label', 'attack_cat'], axis=1)"
   ],
   "metadata": {
    "collapsed": false,
    "ExecuteTime": {
     "end_time": "2024-03-06T15:00:08.446925208Z",
     "start_time": "2024-03-06T15:00:08.416509271Z"
    }
   },
   "execution_count": 20
  },
  {
   "cell_type": "code",
   "outputs": [],
   "source": [
    "from sklearn.preprocessing import StandardScaler\n",
    "scaler = StandardScaler()\n",
    "X_train_scaled = scaler.fit_transform(X_train)\n",
    "X_test_scaled = scaler.transform(X_test)\n",
    "X_validate_scaled = scaler.transform(X_validate)"
   ],
   "metadata": {
    "collapsed": false,
    "ExecuteTime": {
     "end_time": "2024-03-06T15:00:06.968193895Z",
     "start_time": "2024-03-06T15:00:06.665278507Z"
    }
   },
   "execution_count": 19
  },
  {
   "cell_type": "code",
   "execution_count": 32,
   "outputs": [
    {
     "name": "stdout",
     "output_type": "stream",
     "text": [
      "\n",
      "==========Label Scores for all features==========\n",
      "              precision    recall  f1-score   support\n",
      "\n",
      "           0       1.00      0.99      0.99     33735\n",
      "           1       0.99      1.00      0.99     33735\n",
      "\n",
      "    accuracy                           0.99     67470\n",
      "   macro avg       0.99      0.99      0.99     67470\n",
      "weighted avg       0.99      0.99      0.99     67470\n"
     ]
    }
   ],
   "source": [
    "from sklearn.metrics import classification_report\n",
    "from sklearn.neighbors import KNeighborsClassifier\n",
    "\n",
    "\n",
    "X_combined = np.concatenate([X_train_scaled, X_validate_scaled])\n",
    "Y_combined = np.concatenate([Y_label_train, Y_label_validate])\n",
    "\n",
    "# Training the model\n",
    "final_model = KNeighborsClassifier(n_neighbors=9, weights='distance', metric='manhattan', n_jobs=5)\n",
    "final_model.fit(X_combined, Y_combined)\n",
    "\n",
    "# Predicting test set labels\n",
    "Y_test_pred = final_model.predict(X_test_scaled)\n",
    "\n",
    "# Classification report\n",
    "print(\"\\n==========Label Scores for all features==========\")\n",
    "print(classification_report(Y_label_test, Y_test_pred, labels=[0, 1], zero_division=0))"
   ],
   "metadata": {
    "collapsed": false,
    "ExecuteTime": {
     "end_time": "2024-03-06T15:41:52.263513624Z",
     "start_time": "2024-03-06T15:35:00.331342831Z"
    }
   }
  },
  {
   "cell_type": "markdown",
   "source": [
    "## ‘Attack Cat’ Feature"
   ],
   "metadata": {
    "collapsed": false
   }
  },
  {
   "cell_type": "code",
   "execution_count": 1,
   "outputs": [],
   "source": [
    "from sklearn.model_selection import train_test_split\n",
    "import numpy as np\n",
    "import pandas as pd\n",
    "from COMP8085_Project1.scripts import preprocess as ref\n",
    "\n",
    "original_csv = pd.read_csv(\"../data/UNSW-NB15-BALANCED-TRAIN.csv\",\n",
    "                               encoding='ISO-8859-1',\n",
    "                               low_memory=False)\n",
    "\n",
    "    # Process data - change values of ports and null + factorize\n",
    "df = ref.preprocess_data(original_csv)\n",
    "# Split original csv into train and validate+test (0.7 : 0.3)\n",
    "train_df, validate_test_df = train_test_split(df,\n",
    "                                              train_size=0.7,\n",
    "                                              shuffle=True,\n",
    "                                              stratify=df['attack_cat'],\n",
    "                                              random_state=32)\n",
    "\n",
    "# Split validate+test into validate and test (0.5 : 0.5)\n",
    "validate_df, test_df = train_test_split(validate_test_df,\n",
    "                                        train_size=0.5,\n",
    "                                        shuffle=True,\n",
    "                                        stratify=validate_test_df[\n",
    "                                            'attack_cat'],\n",
    "                                        random_state=34)"
   ],
   "metadata": {
    "collapsed": false,
    "ExecuteTime": {
     "end_time": "2024-03-06T21:44:34.024609696Z",
     "start_time": "2024-03-06T21:44:22.010865669Z"
    }
   }
  },
  {
   "cell_type": "code",
   "outputs": [],
   "source": [
    "Y_attack_train = train_df[\"attack_cat\"]\n",
    "X_train = train_df.drop(['srcip', 'dstip', 'Label', 'attack_cat'], axis=1)\n",
    "\n",
    "Y_attack_test = test_df[\"attack_cat\"]\n",
    "X_test = test_df.drop(['srcip', 'dstip', 'Label', 'attack_cat'], axis=1)\n",
    "\n",
    "Y_attack_validate = validate_df[\"attack_cat\"]\n",
    "X_validate = validate_df.drop(['srcip', 'dstip', 'Label', 'attack_cat'], axis=1)"
   ],
   "metadata": {
    "collapsed": false,
    "ExecuteTime": {
     "end_time": "2024-03-06T21:44:34.267706124Z",
     "start_time": "2024-03-06T21:44:34.025480457Z"
    }
   },
   "execution_count": 2
  },
  {
   "cell_type": "code",
   "outputs": [],
   "source": [
    "from sklearn.preprocessing import StandardScaler\n",
    "\n",
    "# Feature scaling\n",
    "scaler = StandardScaler()\n",
    "X_train_scaled = scaler.fit_transform(X_train)\n",
    "X_test_scaled = scaler.transform(X_test)\n",
    "X_validate_scaled = scaler.transform(X_validate)\n"
   ],
   "metadata": {
    "collapsed": false,
    "ExecuteTime": {
     "end_time": "2024-03-06T21:44:38.236462800Z",
     "start_time": "2024-03-06T21:44:36.923342586Z"
    }
   },
   "execution_count": 3
  },
  {
   "cell_type": "code",
   "outputs": [
    {
     "name": "stdout",
     "output_type": "stream",
     "text": [
      "\n",
      "==========Attack Category Scores for all features==========\n",
      "              precision    recall  f1-score   support\n",
      "\n",
      "           0       1.00      0.99      0.99     33735\n",
      "           1       1.00      0.98      0.99     22626\n",
      "           2       0.67      0.81      0.73      2545\n",
      "           3       0.60      0.77      0.67      4674\n",
      "           4       0.31      0.21      0.25      1713\n",
      "           5       0.65      0.67      0.66      1477\n",
      "           6       0.31      0.02      0.04       247\n",
      "           7       0.51      0.09      0.16       279\n",
      "           8       0.52      0.22      0.31       157\n",
      "           9       0.00      0.00      0.00        17\n",
      "\n",
      "    accuracy                           0.93     67470\n",
      "   macro avg       0.56      0.48      0.48     67470\n",
      "weighted avg       0.93      0.93      0.92     67470\n"
     ]
    }
   ],
   "source": [
    "from sklearn.metrics import classification_report\n",
    "from sklearn.neighbors import KNeighborsClassifier\n",
    "\n",
    "X_combined = np.concatenate([X_train_scaled, X_validate_scaled])\n",
    "Y_combined = np.concatenate([Y_attack_train, Y_attack_validate])\n",
    "\n",
    "# Training the model\n",
    "final_model = KNeighborsClassifier(n_neighbors=5, weights='distance', metric='manhattan', n_jobs=5)\n",
    "final_model.fit(X_combined, Y_combined)\n",
    "\n",
    "# Predicting test set labels\n",
    "Y_test_pred = final_model.predict(X_test_scaled)\n",
    "\n",
    "# Generating the classification report\n",
    "# Removing the labels parameter to automatically include all labels present in Y_attack_test\n",
    "print(\"\\n==========Attack Category Scores for all features==========\")\n",
    "print(classification_report(Y_attack_test, Y_test_pred, zero_division=0))"
   ],
   "metadata": {
    "collapsed": false,
    "pycharm": {
     "name": "#%%\n"
    },
    "ExecuteTime": {
     "end_time": "2024-03-06T21:58:54.390547899Z",
     "start_time": "2024-03-06T21:44:40.425523676Z"
    }
   },
   "execution_count": 4
  },
  {
   "cell_type": "code",
   "execution_count": 7,
   "outputs": [],
   "source": [],
   "metadata": {
    "collapsed": false,
    "pycharm": {
     "name": "#%%\n"
    }
   }
  }
 ],
 "metadata": {
  "kernelspec": {
   "display_name": "Python 3",
   "language": "python",
   "name": "python3"
  },
  "language_info": {
   "codemirror_mode": {
    "name": "ipython",
    "version": 2
   },
   "file_extension": ".py",
   "mimetype": "text/x-python",
   "name": "python",
   "nbconvert_exporter": "python",
   "pygments_lexer": "ipython2",
   "version": "2.7.6"
  }
 },
 "nbformat": 4,
 "nbformat_minor": 0
}
